{
 "cells": [
  {
   "cell_type": "markdown",
   "metadata": {},
   "source": [
    "## Basics of Python"
   ]
  },
  {
   "cell_type": "code",
   "execution_count": null,
   "metadata": {},
   "outputs": [],
   "source": [
    "print(\"Welcome to Python!\")"
   ]
  },
  {
   "cell_type": "markdown",
   "metadata": {},
   "source": [
    "#### Commenting\n",
    "\n",
    "When we write code, it is essential to add comments to help future readers of the code understand what it does\n",
    "\n",
    "We can also \"comment out\" certain lines of code while we're testing! Keyboard shortcut to toggle: cntrl /\n",
    "\n",
    "In python, the \\# character is used for this... try it out!"
   ]
  },
  {
   "cell_type": "code",
   "execution_count": null,
   "metadata": {},
   "outputs": [],
   "source": [
    "x = \"purple\"   # This line assigns the string \"purple\" to the variable x\n",
    "# x = \"magenta\"  # This line assigns the string \"magenta\" to the variable x\n",
    "print(x)"
   ]
  },
  {
   "cell_type": "markdown",
   "metadata": {},
   "source": [
    "#### Indentation\n",
    "Python uses space to separate code blocks."
   ]
  },
  {
   "cell_type": "code",
   "execution_count": null,
   "metadata": {},
   "outputs": [],
   "source": [
    "# The code below is an example of a conditional statement\n",
    "# The indentations are important! An IDE will automatically insert them.\n",
    "\n",
    "x = 4\n",
    "if x == 3:   # the == is testing the equality of x and 3\n",
    "    print(\"We know x is 3\")\n",
    "else:\n",
    "    print(\"We know x is NOT 3\")"
   ]
  },
  {
   "cell_type": "markdown",
   "metadata": {},
   "source": [
    "#### Variables\n",
    "Python is object-oriented so you can define strings and numbers with syntax. You don't have to declare variables! We are working with objects that hold a reference to the value you assign them."
   ]
  },
  {
   "cell_type": "code",
   "execution_count": null,
   "metadata": {},
   "outputs": [],
   "source": [
    "myint = 4\n",
    "print(myint)\n",
    "\n",
    "myfloat1 = 4.0\n",
    "print(myfloat1)\n",
    "myfloat2 = float(3)\n",
    "print(myfloat2)\n",
    "\n",
    "mystring1 = 'red'\n",
    "mystring2 = \"green\"\n",
    "mystring3 = \"Diane's favorite food is green chile\"   # double quotes are good when you need an apostrophe\n",
    "print(mystring3)"
   ]
  },
  {
   "cell_type": "code",
   "execution_count": null,
   "metadata": {},
   "outputs": [],
   "source": [
    "# We can check the status of a variable by using 'type'\n",
    "type(mystring1)"
   ]
  },
  {
   "cell_type": "markdown",
   "metadata": {},
   "source": [
    "#### Operators\n",
    "Numbers"
   ]
  },
  {
   "cell_type": "code",
   "execution_count": null,
   "metadata": {},
   "outputs": [],
   "source": [
    "# Adding and subtracting numbers\n",
    "8+3\n",
    "# 8-3\n",
    "# answer = myfloat1 - myfloat2\n",
    "# print(answer)"
   ]
  },
  {
   "cell_type": "code",
   "execution_count": null,
   "metadata": {},
   "outputs": [],
   "source": [
    "# Multiplication and powers\n",
    "8*3\n",
    "# 8**3\n",
    "# (8.3)*(1.5)"
   ]
  },
  {
   "cell_type": "code",
   "execution_count": null,
   "metadata": {},
   "outputs": [],
   "source": [
    "# Division - floating point\n",
    "8/3\n",
    "# Division - integer\n",
    "#8//3\n",
    "# Modulus - returns the remainder\n",
    "#8%5"
   ]
  },
  {
   "cell_type": "code",
   "execution_count": null,
   "metadata": {},
   "outputs": [],
   "source": [
    "# Order of operations conducted in python is PEMDAS:\n",
    "# Parentheses, Exponents, Multiplication and Division (from left to right), Addition and Subtraction (from left to right)\n",
    "# What we learned in elementary school!\n",
    "\n",
    "8*3 + 4*(1+2)"
   ]
  },
  {
   "cell_type": "markdown",
   "metadata": {},
   "source": [
    "Strings"
   ]
  },
  {
   "cell_type": "code",
   "execution_count": null,
   "metadata": {},
   "outputs": [],
   "source": [
    "# Adding strings (concatenation)\n",
    "yummy = mystring1 + \" & \" + mystring2 + \" chile\"\n",
    "print(yummy)"
   ]
  },
  {
   "cell_type": "markdown",
   "metadata": {},
   "source": [
    "#### Looping\n",
    "\n",
    "Using loops to step through repetitive tasks is POWERFUL\n",
    "\n",
    "(Doing operations on a whole array at once is even more powerful, but that's for another day)"
   ]
  },
  {
   "cell_type": "code",
   "execution_count": null,
   "metadata": {},
   "outputs": [],
   "source": [
    "# An example of a for loop:\n",
    "\n",
    "mylist = [\"red\",\"green\",\"blue\"]\n",
    "for x in mylist:\n",
    "    print(x)"
   ]
  },
  {
   "cell_type": "markdown",
   "metadata": {},
   "source": [
    "#### Functions\n",
    "\n",
    "Many are built in.\n",
    "\n",
    "You can also define your own.\n",
    "\n",
    "Libraries are collections of functions other people have written for you!"
   ]
  },
  {
   "cell_type": "code",
   "execution_count": null,
   "metadata": {},
   "outputs": [],
   "source": [
    "# In Python3, \"print\" is now a function called with parenthesis (this wasn't true in Python2)\n",
    "\n",
    "mysentence = \"to print this sentence, I need to call the print function for mysentence variable\"\n",
    "print(mysentence)\n",
    "\n"
   ]
  },
  {
   "cell_type": "code",
   "execution_count": null,
   "metadata": {},
   "outputs": [],
   "source": [
    "# Another function is called type() and it will return the data type of your variable as we saw above\n",
    "\n",
    "type(myint)\n",
    "# type(myfloat1)\n",
    "# type(mystring1)"
   ]
  },
  {
   "cell_type": "code",
   "execution_count": null,
   "metadata": {},
   "outputs": [],
   "source": [
    "# Defining a simple function\n",
    "\n",
    "x = 4\n",
    "y = 3\n",
    "\n",
    "def myfunction():\n",
    "    result = x + y\n",
    "    print(result)\n",
    "    \n",
    "myfunction()"
   ]
  },
  {
   "cell_type": "markdown",
   "metadata": {},
   "source": [
    "## More advanced pythoning below!"
   ]
  },
  {
   "cell_type": "markdown",
   "metadata": {},
   "source": [
    "#### Pandas and GeoPandas\n",
    "\n",
    "A hint at what libraries can do!\n",
    "\n",
    "Libraries are basically collections of functions others have already coded for you."
   ]
  },
  {
   "cell_type": "code",
   "execution_count": null,
   "metadata": {},
   "outputs": [],
   "source": [
    "# Before we can use libraries, we need to import them!\n",
    "# os is a standard library that helps us navigate operating systems\n",
    "# pandas is a useful library for importing and working with spreadsheets (aka dataframes)\n",
    "# geopandas is a library built on pandas that is geospatially enabled\n",
    "# often, you'll also need a plotting library like matplotlib\n",
    "\n",
    "import os\n",
    "import pandas as pd\n",
    "import geopandas as gpd\n",
    "import matplotlib.pyplot as plt"
   ]
  },
  {
   "cell_type": "code",
   "execution_count": null,
   "metadata": {},
   "outputs": [],
   "source": [
    "# first, we'll read in a .csv with pandas\n",
    "# I made this .csv from earthquakes with magnitudes 6 or above\n",
    "\n",
    "quakes = pd.read_csv(\"data/quakes2000_Mag6above.csv\")\n",
    "quakes.head(3)   # head will return the top lines of your dataframe - the default if you leave out the 3 is 5 rows"
   ]
  },
  {
   "cell_type": "code",
   "execution_count": null,
   "metadata": {},
   "outputs": [],
   "source": [
    "# Now we'll use geopandas to geoenable our quakes with the Lat and Lon columns\n",
    "\n",
    "geoquakes = gpd.GeoDataFrame(quakes, geometry=gpd.points_from_xy(quakes.Lon, quakes.Lat))\n",
    "\n",
    "geoquakes.head(3)   # Now we'll see a new column called \"geometry\""
   ]
  },
  {
   "cell_type": "code",
   "execution_count": null,
   "metadata": {},
   "outputs": [],
   "source": [
    "# We can use this geometry column to plot the data on a map!\n",
    "\n",
    "geoquakes.plot()  # Here, plot() is a built-in function within the geopandas library"
   ]
  },
  {
   "cell_type": "code",
   "execution_count": null,
   "metadata": {},
   "outputs": [],
   "source": [
    "# Geopandas can directly read shapefiles!\n",
    "# Let's plot the natural earth land shapefile of the world along with quakes:\n",
    "# I've put those shapefiles in a folder called \"data\" in a relative path for this notebook\n",
    "\n",
    "world = gpd.read_file(\"data/ne_110m_land.shp\")\n",
    "basemap = world.plot()  \n",
    "geoquakes.plot(ax=basemap, marker='*', color='red', markersize=3)\n",
    "plt.show()"
   ]
  }
 ],
 "metadata": {
  "kernelspec": {
   "display_name": "Python 3",
   "language": "python",
   "name": "python3"
  },
  "language_info": {
   "codemirror_mode": {
    "name": "ipython",
    "version": 3
   },
   "file_extension": ".py",
   "mimetype": "text/x-python",
   "name": "python",
   "nbconvert_exporter": "python",
   "pygments_lexer": "ipython3",
   "version": "3.8.8"
  }
 },
 "nbformat": 4,
 "nbformat_minor": 2
}
