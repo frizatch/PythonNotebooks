{
 "cells": [
  {
   "cell_type": "markdown",
   "metadata": {},
   "source": [
    "# Geospatial Python\n",
    "\n",
    "This notebook has a few reminders of basic python before we dig into geospatial libraries\n",
    "\n",
    "Datasets for this binder notebook are in the relative path: /data"
   ]
  },
  {
   "cell_type": "code",
   "execution_count": null,
   "metadata": {},
   "outputs": [],
   "source": [
    "print(\"Welcome to Geospatial Python!\")"
   ]
  },
  {
   "cell_type": "markdown",
   "metadata": {},
   "source": [
    "#### Commenting\n",
    "\n",
    "When we write code, it is essential to add comments to help future readers of the code understand what it does\n",
    "\n",
    "We can also \"comment out\" certain lines of code while we're testing! Keyboard shortcut to toggle: cntrl /\n",
    "\n",
    "In python, the \\# character is used for this... try it out!"
   ]
  },
  {
   "cell_type": "code",
   "execution_count": null,
   "metadata": {},
   "outputs": [],
   "source": [
    "x = \"purple\"   # This line assigns the string \"purple\" to the variable x\n",
    "# x = \"magenta\"  # This line assigns the string \"magenta\" to the variable x\n",
    "print(x)"
   ]
  },
  {
   "cell_type": "markdown",
   "metadata": {},
   "source": [
    "#### Indentation\n",
    "Python uses space to separate code blocks."
   ]
  },
  {
   "cell_type": "code",
   "execution_count": null,
   "metadata": {},
   "outputs": [],
   "source": [
    "# The code below is an example of a conditional statement\n",
    "# The indentations are important! An IDE will automatically insert them.\n",
    "\n",
    "x = 4\n",
    "if x == 3:   # the == is testing the equality of x and 3\n",
    "    print(\"We know x is 3\")\n",
    "else:\n",
    "    print(\"We know x is NOT 3\")"
   ]
  },
  {
   "cell_type": "markdown",
   "metadata": {},
   "source": [
    "#### Variables\n",
    "Python is object-oriented so you can define strings and numbers with syntax. You don't have to declare variables! We are working with objects that hold a reference to the value you assign them."
   ]
  },
  {
   "cell_type": "code",
   "execution_count": null,
   "metadata": {},
   "outputs": [],
   "source": [
    "myint = 4\n",
    "print(myint)\n",
    "\n",
    "myfloat1 = 4.0\n",
    "print(myfloat1)\n",
    "myfloat2 = float(3)\n",
    "print(myfloat2)\n",
    "\n",
    "mystring1 = 'red'\n",
    "mystring2 = \"green\"\n",
    "# mystring3 = \"Diane's favorite food is green chile\"   # double quotes are good when you need an apostrophe\n",
    "print(mystring1)"
   ]
  },
  {
   "cell_type": "code",
   "execution_count": null,
   "metadata": {},
   "outputs": [],
   "source": [
    "# We can check the status of a variable by using 'type'\n",
    "type(mystring1)"
   ]
  },
  {
   "cell_type": "markdown",
   "metadata": {},
   "source": [
    "#### Operators\n",
    "Numbers"
   ]
  },
  {
   "cell_type": "code",
   "execution_count": null,
   "metadata": {},
   "outputs": [],
   "source": [
    "# Adding and subtracting numbers\n",
    "\n",
    "8+3\n",
    "# 8-3\n",
    "# answer = myfloat1 - myfloat2\n",
    "# print(answer)"
   ]
  },
  {
   "cell_type": "code",
   "execution_count": null,
   "metadata": {},
   "outputs": [],
   "source": [
    "# Multiplication and powers\n",
    "\n",
    "8*3\n",
    "# 8**3\n",
    "# (8.3)*(1.5)"
   ]
  },
  {
   "cell_type": "code",
   "execution_count": null,
   "metadata": {},
   "outputs": [],
   "source": [
    "# Division - floating point\n",
    "\n",
    "8/3\n",
    "# Division - integer\n",
    "#8//3\n",
    "# Modulus - returns the remainder\n",
    "#8%5"
   ]
  },
  {
   "cell_type": "code",
   "execution_count": null,
   "metadata": {},
   "outputs": [],
   "source": [
    "# Order of operations conducted in python is PEMDAS:\n",
    "# Parentheses, Exponents, Multiplication and Division (from left to right), Addition and Subtraction (from left to right)\n",
    "# What we learned in elementary school!\n",
    "\n",
    "8*3 + 4*(1+2)"
   ]
  },
  {
   "cell_type": "markdown",
   "metadata": {},
   "source": [
    "Strings"
   ]
  },
  {
   "cell_type": "code",
   "execution_count": null,
   "metadata": {},
   "outputs": [],
   "source": [
    "# Adding strings (concatenation)\n",
    "# This trick is useful for writing output files!\n",
    "\n",
    "yummy = mystring1 + \" & \" + mystring2 + \" chile\"\n",
    "print(yummy)"
   ]
  },
  {
   "cell_type": "markdown",
   "metadata": {},
   "source": [
    "#### Looping\n",
    "\n",
    "Using loops to step through repetitive tasks is POWERFUL"
   ]
  },
  {
   "cell_type": "code",
   "execution_count": null,
   "metadata": {},
   "outputs": [],
   "source": [
    "# An example of a for loop:\n",
    "\n",
    "mylist = [\"red\",\"green\",\"blue\"]\n",
    "for x in mylist:\n",
    "    print(x)"
   ]
  },
  {
   "cell_type": "markdown",
   "metadata": {},
   "source": [
    "#### Functions\n",
    "\n",
    "Many are built in.\n",
    "\n",
    "You can also define your own.\n",
    "\n",
    "(*Libraries* are collections of functions other people have written for you!)"
   ]
  },
  {
   "cell_type": "code",
   "execution_count": null,
   "metadata": {},
   "outputs": [],
   "source": [
    "# In Python3, \"print\" is now a function called with parenthesis (this wasn't true in Python2)\n",
    "\n",
    "mysentence = \"to print this sentence, I need to call the print function for the mysentence variable\"\n",
    "print(mysentence)\n",
    "\n"
   ]
  },
  {
   "cell_type": "code",
   "execution_count": null,
   "metadata": {},
   "outputs": [],
   "source": [
    "# Another function is called type() and it will return the data type of your variable as we saw above\n",
    "\n",
    "type(myint)\n",
    "# type(myfloat1)\n",
    "# type(mystring1)"
   ]
  },
  {
   "cell_type": "code",
   "execution_count": null,
   "metadata": {},
   "outputs": [],
   "source": [
    "# Defining a simple function\n",
    "\n",
    "x = 4\n",
    "y = 3\n",
    "\n",
    "def myfunction():\n",
    "    result = x + y\n",
    "    print(result)\n",
    "    \n",
    "myfunction()"
   ]
  },
  {
   "cell_type": "markdown",
   "metadata": {},
   "source": [
    "---"
   ]
  },
  {
   "cell_type": "markdown",
   "metadata": {},
   "source": [
    "Now, let's get into some geospatial fun!\n",
    "\n",
    "These next sections on Geocoding and Interactive Maps are from [Melanie Walsh's Mapping chapter](https://melaniewalsh.github.io/Intro-Cultural-Analytics/welcome.html):"
   ]
  },
  {
   "cell_type": "markdown",
   "metadata": {},
   "source": [
    "## GeoPy for Geocoding\n",
    "\n",
    "Geocoding = using reference spatial data to find lat and lon points to assign to addresses\n",
    "\n",
    "Using Nominatum and OpenStreetMap (OSM is the reference data)\n",
    "\n",
    "GeoPy is a python library that makes this possible!"
   ]
  },
  {
   "cell_type": "code",
   "execution_count": null,
   "metadata": {},
   "outputs": [],
   "source": [
    "# Before we can use libraries or their subfunctions, we need to import them!\n",
    "\n",
    "from geopy.geocoders import Nominatim"
   ]
  },
  {
   "cell_type": "code",
   "execution_count": null,
   "metadata": {},
   "outputs": [],
   "source": [
    "geolocator = Nominatim(user_agent=\"YOUR NAME's mapping app\", timeout=2)"
   ]
  },
  {
   "cell_type": "code",
   "execution_count": null,
   "metadata": {},
   "outputs": [],
   "source": [
    "location = geolocator.geocode(\"South Cayuga Street\")"
   ]
  },
  {
   "cell_type": "code",
   "execution_count": null,
   "metadata": {},
   "outputs": [],
   "source": [
    "location"
   ]
  },
  {
   "cell_type": "code",
   "execution_count": null,
   "metadata": {},
   "outputs": [],
   "source": [
    "print(location.address)"
   ]
  },
  {
   "cell_type": "code",
   "execution_count": null,
   "metadata": {
    "scrolled": true
   },
   "outputs": [],
   "source": [
    "print(location.latitude, location.longitude)"
   ]
  },
  {
   "cell_type": "code",
   "execution_count": null,
   "metadata": {},
   "outputs": [],
   "source": [
    "print(f\"Importance: {location.raw['importance']}\")"
   ]
  },
  {
   "cell_type": "code",
   "execution_count": null,
   "metadata": {},
   "outputs": [],
   "source": [
    "print(f\"Class: {location.raw['class']} \\nType: {location.raw['type']}\")"
   ]
  },
  {
   "cell_type": "code",
   "execution_count": null,
   "metadata": {},
   "outputs": [],
   "source": [
    "possible_locations = geolocator.geocode(\"College Ave\", exactly_one=False)\n",
    "\n",
    "for location in possible_locations:\n",
    "    print(location.address)\n",
    "    print(location.latitude, location.longitude)\n",
    "    print(f\"Importance: {location.raw['importance']}\")"
   ]
  },
  {
   "cell_type": "code",
   "execution_count": null,
   "metadata": {},
   "outputs": [],
   "source": [
    "location = geolocator.geocode(\"College Ave, Ithaca NY\")\n",
    "\n",
    "print(location.address)\n",
    "print(location.latitude, location.longitude)\n",
    "print(f\"Importance: {location.raw['importance']}\")"
   ]
  },
  {
   "cell_type": "code",
   "execution_count": null,
   "metadata": {},
   "outputs": [],
   "source": [
    "import pandas as pd\n",
    "pd.set_option(\"max_rows\", 400)\n",
    "pd.set_option(\"max_colwidth\", 400)"
   ]
  },
  {
   "cell_type": "code",
   "execution_count": null,
   "metadata": {},
   "outputs": [],
   "source": [
    "def find_location(row):\n",
    "    \n",
    "    place = row['place']\n",
    "    \n",
    "    location = geolocator.geocode(place)\n",
    "    \n",
    "    if location != None:\n",
    "        return location.address, location.latitude, location.longitude, location.raw['importance']\n",
    "    else:\n",
    "        return \"Not Found\", \"Not Found\", \"Not Found\", \"Not Found\""
   ]
  },
  {
   "cell_type": "code",
   "execution_count": null,
   "metadata": {},
   "outputs": [],
   "source": [
    "ithaca_df = pd.read_csv(\"data/IthacaPlaces.csv\")"
   ]
  },
  {
   "cell_type": "code",
   "execution_count": null,
   "metadata": {},
   "outputs": [],
   "source": [
    "ithaca_df[['address', 'lat', 'lon', 'importance']] = ithaca_df.apply(find_location, axis=\"columns\", result_type=\"expand\")\n",
    "ithaca_df"
   ]
  },
  {
   "cell_type": "markdown",
   "metadata": {},
   "source": [
    "## Folium for Making Interactive Maps\n",
    "\n",
    "To map our geocoded coordinates, we’re going to use the Python library Folium. Folium is built on top of the popular JavaScript library Leaflet."
   ]
  },
  {
   "cell_type": "code",
   "execution_count": null,
   "metadata": {},
   "outputs": [],
   "source": [
    "import folium"
   ]
  },
  {
   "cell_type": "code",
   "execution_count": null,
   "metadata": {
    "scrolled": true
   },
   "outputs": [],
   "source": [
    "ithaca_map = folium.Map(location=[42.44, -76.5], zoom_start=14)\n",
    "ithaca_map"
   ]
  },
  {
   "cell_type": "markdown",
   "metadata": {},
   "source": [
    "#### Add a Marker"
   ]
  },
  {
   "cell_type": "code",
   "execution_count": null,
   "metadata": {
    "scrolled": true
   },
   "outputs": [],
   "source": [
    "folium.Marker(location=[42.451851, -76.477850], popup=\"Olde Tyme Ice Skating\").add_to(ithaca_map)\n",
    "ithaca_map"
   ]
  },
  {
   "cell_type": "markdown",
   "metadata": {},
   "source": [
    "#### Add Markers from Pandas Dataframe\n",
    "\n",
    "To add markers for every location in our Pandas dataframe, we can make a Python function and .apply() it to every row in the dataframe."
   ]
  },
  {
   "cell_type": "code",
   "execution_count": null,
   "metadata": {},
   "outputs": [],
   "source": [
    "def create_map_markers(row, map_name):\n",
    "    folium.Marker(location=[row['lat'], row['lon']], popup=row['place']).add_to(map_name)"
   ]
  },
  {
   "cell_type": "code",
   "execution_count": null,
   "metadata": {},
   "outputs": [],
   "source": [
    "found_ithaca_locations = ithaca_df[ithaca_df['address'] != \"Not Found\"]"
   ]
  },
  {
   "cell_type": "code",
   "execution_count": null,
   "metadata": {
    "scrolled": true
   },
   "outputs": [],
   "source": [
    "found_ithaca_locations.apply(create_map_markers, map_name=ithaca_map, axis='columns')\n",
    "ithaca_map"
   ]
  },
  {
   "cell_type": "markdown",
   "metadata": {},
   "source": [
    "#### Save Map"
   ]
  },
  {
   "cell_type": "code",
   "execution_count": null,
   "metadata": {},
   "outputs": [],
   "source": [
    "ithaca_map.save(\"Ithaca-map.html\")"
   ]
  },
  {
   "cell_type": "markdown",
   "metadata": {},
   "source": [
    "---"
   ]
  },
  {
   "cell_type": "markdown",
   "metadata": {},
   "source": [
    "## Custom Map Backgrounds\n",
    "\n",
    "Using folium, we can pull in all sorts of map tiles for our basemaps.\n",
    "\n",
    "There is a whole library of [leaflet providers](https://leaflet-extras.github.io/leaflet-providers/preview/) available... just copy and paste the tiles and attributes information for the tiles you want to use!"
   ]
  },
  {
   "cell_type": "code",
   "execution_count": null,
   "metadata": {},
   "outputs": [],
   "source": [
    "import folium"
   ]
  },
  {
   "cell_type": "code",
   "execution_count": null,
   "metadata": {},
   "outputs": [],
   "source": [
    "folium.Map(location=[0, 30],\n",
    "           zoom_start=2,\n",
    "           tiles='http://c.tile.stamen.com/watercolor/{z}/{x}/{y}.jpg',\n",
    "           attr='Map tiles by <a href=\"http://stamen.com\">Stamen Design</a>, under <a href=\"http://creativecommons.org/licenses/by/3.0\">CC BY 3.0</a>. Data by <a href=\"http://openstreetmap.org\">OpenStreetMap</a>, under <a href=\"http://creativecommons.org/licenses/by-sa/3.0\">CC BY SA</a>.')"
   ]
  },
  {
   "cell_type": "code",
   "execution_count": null,
   "metadata": {},
   "outputs": [],
   "source": [
    "# For the shipwrecks we'll investigate below, an ocean-centric basemap is appropriate!\n",
    "\n",
    "folium.Map(location=[40, -80],\n",
    "           zoom_start= 3,\n",
    "           tiles='https://server.arcgisonline.com/ArcGIS/rest/services/Ocean_Basemap/MapServer/tile/{z}/{y}/{x}',\n",
    "           attr='Tiles &copy; Esri &mdash; Sources: GEBCO, NOAA, CHS, OSU, UNH, CSUMB, National Geographic, DeLorme, NAVTEQ, and Esri')"
   ]
  },
  {
   "cell_type": "markdown",
   "metadata": {},
   "source": [
    "## Pandas and GeoPandas for Geospatial Data\n",
    "\n",
    "We often think of geospatial data in the form of points, lines and polygons.\n",
    "\n",
    "Points are great for individual markers, but what if we want to bring in a road network or ecoregions onto our map?\n",
    "\n",
    "We'll find these point, line, or polygon geospatial datasets in open data portals in different file formats like shapefiles and geojsons. Geopandas can easily read all these vector-based data!"
   ]
  },
  {
   "cell_type": "code",
   "execution_count": null,
   "metadata": {},
   "outputs": [],
   "source": [
    "# pandas is a useful library for importing and working with spreadsheets (aka dataframes)\n",
    "# geopandas is a library built on pandas that is geospatially enabled\n",
    "# you'll also need a plotting library like matplotlib if you're not using leaflet maps in folium\n",
    "\n",
    "import pandas as pd\n",
    "import geopandas as gpd\n",
    "import matplotlib.pyplot as plt"
   ]
  },
  {
   "cell_type": "code",
   "execution_count": null,
   "metadata": {},
   "outputs": [],
   "source": [
    "# first, we'll read in a .csv with pandas\n",
    "# Our first sample dataset is of earthquakes recorded up to the year 2000 and limited to magnitudes >= 6\n",
    "\n",
    "quakes = pd.read_csv(\"data/quakes2000_Mag6above.csv\")\n",
    "quakes.head(3)   # head will return the top lines of your dataframe that you choose"
   ]
  },
  {
   "cell_type": "markdown",
   "metadata": {},
   "source": [
    "Notice two of the columns in our .csv are lat and lon information! We can pull any spreadsheet into pandas that has this information and then plot it on a map with geopandas."
   ]
  },
  {
   "cell_type": "code",
   "execution_count": null,
   "metadata": {
    "scrolled": true
   },
   "outputs": [],
   "source": [
    "# Now we'll use geopandas to geoenable our quakes with the Lat and Lon columns\n",
    "\n",
    "geoquakes = gpd.GeoDataFrame(quakes, geometry=gpd.points_from_xy(quakes.Lon, quakes.Lat))\n",
    "\n",
    "geoquakes.head(3)   # Now we'll see a new column called \"geometry\""
   ]
  },
  {
   "cell_type": "code",
   "execution_count": null,
   "metadata": {},
   "outputs": [],
   "source": [
    "# We can use this geometry column to plot the data on a map!\n",
    "\n",
    "geoquakes.plot()  # Here, plot() is a built-in function within the geopandas library"
   ]
  },
  {
   "cell_type": "code",
   "execution_count": null,
   "metadata": {},
   "outputs": [],
   "source": [
    "# Geopandas can directly read shapefiles or other vector formats!\n",
    "# Let's plot the earthquakes over the natural earth land shapefile of the world so we can see where they are.\n",
    "# We can also change the styly of our markers\n",
    "\n",
    "world = gpd.read_file(\"data/ne_110m_land/ne_110m_land.shp\")\n",
    "basemap = world.plot(color = 'grey')  \n",
    "geoquakes.plot(ax=basemap, marker='*', color='red', markersize=30)\n",
    "plt.show()"
   ]
  },
  {
   "cell_type": "code",
   "execution_count": null,
   "metadata": {},
   "outputs": [],
   "source": [
    "# Now let's look at a different dataset about shipwrecks\n",
    "# Datasource: https://nauticalcharts.noaa.gov/data/wrecks-and-obstructions.html\n",
    "\n",
    "wrecks = pd.read_csv(\"data/AWOIS_Wrecks.csv\")\n",
    "wrecks.head()   # head will return the top lines of your dataframe - here, leaving it blank will return 5 rows as the default"
   ]
  },
  {
   "cell_type": "code",
   "execution_count": null,
   "metadata": {},
   "outputs": [],
   "source": [
    "# Now we'll use geopandas to geoenable our quakes with the Lat and Lon columns\n",
    "\n",
    "geowrecks = gpd.GeoDataFrame(wrecks, geometry=gpd.points_from_xy(wrecks.LONDEC, wrecks.LATDEC))\n",
    "\n",
    "geowrecks.head(3)   # Now we'll see a new column called \"geometry\""
   ]
  },
  {
   "cell_type": "code",
   "execution_count": null,
   "metadata": {},
   "outputs": [],
   "source": [
    "yearsunkwrecks = geowrecks.dropna(subset=['YEARSUNK'])\n",
    "yearsunkwrecks"
   ]
  },
  {
   "cell_type": "code",
   "execution_count": null,
   "metadata": {
    "scrolled": true
   },
   "outputs": [],
   "source": [
    "world = gpd.read_file(\"data/ne_110m_land/ne_110m_land.shp\")\n",
    "basemap = world.plot(color='grey')\n",
    "yearsunkwrecks.plot(ax=basemap, marker='h', markersize=100, column='YEARSUNK', cmap='Greens', legend=True)\n",
    "basemap.set_xlim(-170, -50)\n",
    "basemap.set_ylim(10, 80)\n",
    "plt.show()"
   ]
  },
  {
   "cell_type": "code",
   "execution_count": null,
   "metadata": {},
   "outputs": [],
   "source": [
    "# Let's add a rivers layer to our map (not very pretty, but you get the idea)\n",
    "\n",
    "world = gpd.read_file(\"data/ne_110m_land/ne_110m_land.shp\")\n",
    "basemap = world.plot(color='grey')\n",
    "rivers = gpd.read_file(\"data/ne_50m_rivers_lake_centerlines.shp\")\n",
    "rivers.plot(ax=basemap, color='blue', zorder=1)\n",
    "yearsunkwrecks.plot(ax=basemap, marker='h', markersize=100, column='YEARSUNK', cmap='Greens', legend=True, zorder=2)\n",
    "basemap.set_xlim(-170, -50)\n",
    "basemap.set_ylim(10, 80)\n",
    "plt.show()\n"
   ]
  },
  {
   "cell_type": "markdown",
   "metadata": {},
   "source": [
    "## Coordinate Reference Systems\n",
    "\n",
    "For our datasets to line up for analysis, we need to make sure they all have the same crs"
   ]
  },
  {
   "cell_type": "code",
   "execution_count": null,
   "metadata": {},
   "outputs": [],
   "source": [
    "# We can easily check the crs of our land basemap with the following command:\n",
    "\n",
    "world.crs"
   ]
  },
  {
   "cell_type": "code",
   "execution_count": null,
   "metadata": {},
   "outputs": [],
   "source": [
    "# Now instead of starting with the AWOIS shipwrecks spreadsheet, let's pull in the shapefile\n",
    "\n",
    "world = gpd.read_file(\"data/ne_110m_land.shp\")\n",
    "basemap = world.plot()\n",
    "AWOISshp = gpd.read_file(\"data/AWOIS_Wrecks.shp\")\n",
    "AWOISshp.plot(ax=basemap, color='red', markersize=3)\n",
    "basemap.set_xlim(-170, -50)\n",
    "basemap.set_ylim(10, 80)\n",
    "plt.show()"
   ]
  },
  {
   "cell_type": "markdown",
   "metadata": {},
   "source": [
    "Notice something different about how North America looks compared to the map we had earlier?"
   ]
  },
  {
   "cell_type": "code",
   "execution_count": null,
   "metadata": {},
   "outputs": [],
   "source": [
    "# Let's check the crs of our AWOIS layer:\n",
    "\n",
    "AWOISshp.crs"
   ]
  },
  {
   "cell_type": "markdown",
   "metadata": {},
   "source": [
    "It's different! The easiest way to know is to refer to the EPSG codes... you can find more about each one at https://epsg.io/"
   ]
  },
  {
   "cell_type": "code",
   "execution_count": null,
   "metadata": {},
   "outputs": [],
   "source": [
    "# Changing the crs of a layer can be done with the following:\n",
    "\n",
    "world_NAD83 = world.to_crs(epsg=4269)"
   ]
  }
 ],
 "metadata": {
  "kernelspec": {
   "display_name": "Python 3",
   "language": "python",
   "name": "python3"
  },
  "language_info": {
   "codemirror_mode": {
    "name": "ipython",
    "version": 3
   },
   "file_extension": ".py",
   "mimetype": "text/x-python",
   "name": "python",
   "nbconvert_exporter": "python",
   "pygments_lexer": "ipython3",
   "version": "3.8.8"
  }
 },
 "nbformat": 4,
 "nbformat_minor": 2
}
