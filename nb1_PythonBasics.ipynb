{
 "cells": [
  {
   "cell_type": "markdown",
   "metadata": {},
   "source": [
    "## Basics of Python3"
   ]
  },
  {
   "cell_type": "markdown",
   "metadata": {},
   "source": [
    "#### Functions\n",
    "In Python3, \"print\" is now a function called with parenthesis (this wasn't true in Python2)"
   ]
  },
  {
   "cell_type": "code",
   "execution_count": null,
   "metadata": {},
   "outputs": [],
   "source": [
    "print(\"Welcome to Python!\")"
   ]
  },
  {
   "cell_type": "markdown",
   "metadata": {},
   "source": [
    "#### Indentation\n",
    "Python uses space to separate code blocks."
   ]
  },
  {
   "cell_type": "code",
   "execution_count": null,
   "metadata": {},
   "outputs": [],
   "source": [
    "x = 3\n",
    "if x == 3:   # the == is testing the equality of x and 3\n",
    "    print(\"We know x is 3\")\n",
    "else:\n",
    "    print(\"We know x is NOT 3\")"
   ]
  },
  {
   "cell_type": "markdown",
   "metadata": {},
   "source": [
    "#### Variables\n",
    "Python is object-oriented so you can define strings and numbers with syntax. You don't have to declare variables! We are working with objects that hold a reference to the value you assign them."
   ]
  },
  {
   "cell_type": "code",
   "execution_count": null,
   "metadata": {},
   "outputs": [],
   "source": [
    "myint = 4\n",
    "print(myint)\n",
    "\n",
    "myfloat1 = 4.0\n",
    "myfloat2 = float(3)\n",
    "print(myfloat2)\n",
    "\n",
    "mystring1 = 'kitty'\n",
    "mystring2 = \"puppy\"\n",
    "mystring3 = \"Diane's dog is 19yrs old!\"   # double quotes are good when you need an apostrophe\n",
    "print(mystring3)"
   ]
  },
  {
   "cell_type": "code",
   "execution_count": null,
   "metadata": {},
   "outputs": [],
   "source": [
    "# We can check the status of a variable by using 'type'\n",
    "type(mystring1)"
   ]
  },
  {
   "cell_type": "markdown",
   "metadata": {},
   "source": [
    "#### Operators\n",
    "Numbers"
   ]
  },
  {
   "cell_type": "code",
   "execution_count": null,
   "metadata": {},
   "outputs": [],
   "source": [
    "# Adding and subtracting numbers\n",
    "8+3\n",
    "#8-3\n",
    "#answer = myfloat1 - myfloat2\n",
    "#print(answer)"
   ]
  },
  {
   "cell_type": "code",
   "execution_count": null,
   "metadata": {},
   "outputs": [],
   "source": [
    "# Multiplication and powers\n",
    "8*3\n",
    "#8**3\n",
    "#(8.3)**(1.5)"
   ]
  },
  {
   "cell_type": "code",
   "execution_count": null,
   "metadata": {},
   "outputs": [],
   "source": [
    "# Division - floating point\n",
    "8/3\n",
    "# Division - integer\n",
    "#8//3\n",
    "# Modulus - returns the remainder\n",
    "#8%5"
   ]
  },
  {
   "cell_type": "code",
   "execution_count": null,
   "metadata": {},
   "outputs": [],
   "source": [
    "# Order of operations is pemdas - what we learned in elementary school!\n",
    "8*3 + 4*(1+2)"
   ]
  },
  {
   "cell_type": "markdown",
   "metadata": {},
   "source": [
    "Strings"
   ]
  },
  {
   "cell_type": "code",
   "execution_count": null,
   "metadata": {},
   "outputs": [],
   "source": [
    "# Adding strings (concatenation)\n",
    "cute = mystring1 + \" & \" + mystring2\n",
    "print(cute)"
   ]
  }
 ],
 "metadata": {
  "kernelspec": {
   "display_name": "Python 3",
   "language": "python",
   "name": "python3"
  },
  "language_info": {
   "codemirror_mode": {
    "name": "ipython",
    "version": 3
   },
   "file_extension": ".py",
   "mimetype": "text/x-python",
   "name": "python",
   "nbconvert_exporter": "python",
   "pygments_lexer": "ipython3",
   "version": "3.7.1"
  }
 },
 "nbformat": 4,
 "nbformat_minor": 2
}
